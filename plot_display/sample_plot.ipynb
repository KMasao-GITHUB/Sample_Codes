{
 "cells": [
  {
   "cell_type": "code",
   "execution_count": null,
   "metadata": {},
   "outputs": [],
   "source": [
    "def target_kde_plot(df, columns, target, ncol=3, figsize=(16, 8)):\n",
    "    nrow = round(len(columns) / ncol)\n",
    "    fig, axes = plt.subplots(nrow, ncol, figsize=figsize)\n",
    "    col, row = 0, 0\n",
    "    for col_name in columns:\n",
    "        if nrow <= 1:\n",
    "            sns.kdeplot(data=df, x=col_name, hue=target, ax=axes[col])\n",
    "            col += 1\n",
    "        else:\n",
    "            sns.kdeplot(data=df, x=col_name, hue=target, ax=axes[row][col])\n",
    "            row += 1\n",
    "            if row >= nrow:\n",
    "                col += 1\n",
    "                row = 0"
   ]
  },
  {
   "cell_type": "code",
   "execution_count": null,
   "metadata": {},
   "outputs": [],
   "source": [
    "grid = sns.FacetGrid(train_df, row='Embarked', col='Survived', size=2.2, aspect=1.6)\n",
    "grid.map(sns.barplot, 'Sex', 'Fare', alpha=.5, ci=None)\n",
    "grid.add_legend()"
   ]
  }
 ],
 "metadata": {
  "language_info": {
   "name": "python"
  }
 },
 "nbformat": 4,
 "nbformat_minor": 2
}
