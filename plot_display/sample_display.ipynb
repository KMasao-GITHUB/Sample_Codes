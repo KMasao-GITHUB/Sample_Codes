{
 "cells": [
  {
   "cell_type": "code",
   "execution_count": null,
   "metadata": {},
   "outputs": [],
   "source": [
    "def display_p_values(df, columns, target, th=0.05, cut=False):\n",
    "    from scipy.stats import pearsonr\n",
    "    p_values_list = []\n",
    "    for c in columns:\n",
    "        p = round(pearsonr(train.loc[:,target], train.loc[:,c])[1], 4)\n",
    "        p_values_list.append(p)\n",
    "\n",
    "    p_values_df = pd.DataFrame(p_values_list, columns=[target], index=columns)\n",
    "    def p_value_warning_background(cell_value):\n",
    "        highlight = 'background-color: lightcoral;'\n",
    "        default = ''\n",
    "        if cell_value > th:\n",
    "                return highlight\n",
    "        return default\n",
    "    \n",
    "    if cut:\n",
    "        p_values_df_high = p_values_df[p_values_df[target] > th]\n",
    "    else:\n",
    "        p_values_df_high = p_values_df.copy()\n",
    "    display(p_values_df_high.style.applymap(p_value_warning_background))"
   ]
  }
 ],
 "metadata": {
  "language_info": {
   "name": "python"
  }
 },
 "nbformat": 4,
 "nbformat_minor": 2
}
