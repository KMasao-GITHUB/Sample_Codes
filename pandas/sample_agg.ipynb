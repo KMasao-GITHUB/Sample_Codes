{
 "cells": [
  {
   "cell_type": "code",
   "execution_count": null,
   "metadata": {},
   "outputs": [],
   "source": [
    "def create_new_features(df, aggregation_cols=['sequence'], prefix=''):\n",
    "    df['sensor_02_num'] = df['sensor_02'] > -15\n",
    "    df['sensor_02_num'] = df['sensor_02_num'].astype(int)\n",
    "    df['sensor_sum1'] = (df['sensor_00'] + df['sensor_09'] + df['sensor_06'] + df['sensor_01'])\n",
    "    df['sensor_sum2'] = (df['sensor_01'] + df['sensor_11'] + df['sensor_09'] + df['sensor_06'] + df['sensor_00'])\n",
    "    df['sensor_sum3'] = (df['sensor_03'] + df['sensor_11'] + df['sensor_07'])\n",
    "    df['sensor_sum4'] = (df['sensor_04'] + df['sensor_10'])\n",
    "    \n",
    "    agg_strategy = {\n",
    "                    'sensor_00': ['mean', 'max', 'min', 'var', 'mad', 'sum', 'median'],\n",
    "                    'sensor_01': ['mean', 'max', 'min', 'var', 'mad', 'sum', 'median'],\n",
    "                    'sensor_02': ['mean', 'max', 'min', 'var', 'mad', 'sum', 'median'],\n",
    "                    'sensor_03': ['mean', 'max', 'min', 'var', 'mad', 'sum', 'median'],\n",
    "                    'sensor_04': ['mean', 'max', 'min', 'var', 'mad', 'sum', 'median'],\n",
    "                    'sensor_05': ['mean', 'max', 'min', 'var', 'mad', 'sum', 'median'],\n",
    "                    'sensor_06': ['mean', 'max', 'min', 'var', 'mad', 'sum', 'median'],\n",
    "                    'sensor_07': ['mean', 'max', 'min', 'var', 'mad', 'sum', 'median'],\n",
    "                    'sensor_08': ['mean', 'max', 'min', 'var', 'mad', 'sum', 'median'],\n",
    "                    'sensor_09': ['mean', 'max', 'min', 'var', 'mad', 'sum', 'median'],\n",
    "                    'sensor_10': ['mean', 'max', 'min', 'var', 'mad', 'sum', 'median'],\n",
    "                    'sensor_11': ['mean', 'max', 'min', 'var', 'mad', 'sum', 'median'],\n",
    "                    'sensor_12': ['mean', 'max', 'min', 'var', 'mad', 'sum', 'median'],\n",
    "                    'sensor_02_num': ['mean', 'max', 'min', 'var', 'mad', 'sum', 'median'],\n",
    "                    'sensor_sum1': ['mean', 'max', 'min', 'var', 'mad', 'sum', 'median'],\n",
    "                    'sensor_sum2': ['mean', 'max', 'min', 'var', 'mad', 'sum', 'median'],\n",
    "                    'sensor_sum3': ['mean', 'max', 'min', 'var', 'mad', 'sum', 'median'],\n",
    "                    'sensor_sum4': ['mean', 'max', 'min', 'var', 'mad', 'sum', 'median'],\n",
    "                   }\n",
    "    \n",
    "    group = df.groupby(aggregation_cols).aggregate(agg_strategy)\n",
    "    group.columns = ['_'.join(col).strip() for col in group.columns]\n",
    "    group.columns = [str(prefix) + str(col) for col in group.columns]\n",
    "    group.reset_index(inplace = True)\n",
    "    \n",
    "    temp = (df.groupby(aggregation_cols).size().reset_index(name = str(prefix) + 'size'))\n",
    "    group = pd.merge(temp, group, how = 'left', on = aggregation_cols,)\n",
    "    return group"
   ]
  }
 ],
 "metadata": {
  "language_info": {
   "name": "python"
  }
 },
 "nbformat": 4,
 "nbformat_minor": 2
}
