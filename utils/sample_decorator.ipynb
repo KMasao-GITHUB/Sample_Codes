{
 "cells": [
  {
   "cell_type": "code",
   "execution_count": 1,
   "metadata": {},
   "outputs": [
    {
     "name": "stdout",
     "output_type": "stream",
     "text": [
      "**********\n",
      "9\n",
      "**********\n"
     ]
    }
   ],
   "source": [
    "from functools import wraps\n",
    "\n",
    "def logger(separator: str = \"-\"):\n",
    "    def decorator(func):\n",
    "        @wraps(func)\n",
    "        def wrapper(*args, **kwargs):\n",
    "            print(separator * 10)\n",
    "            print(func(*args, **kwargs))\n",
    "            print(separator * 10)\n",
    "        return wrapper\n",
    "    return decorator\n",
    "\n",
    "def myfunc(a, b):\n",
    "    return a + b\n",
    "\n",
    "@logger(\"*\")\n",
    "def myfunc1(a, b):\n",
    "    return a + b\n",
    "\n",
    "myfunc1(3, 6)"
   ]
  },
  {
   "cell_type": "code",
   "execution_count": null,
   "metadata": {},
   "outputs": [],
   "source": []
  }
 ],
 "metadata": {
  "kernelspec": {
   "display_name": ".venv",
   "language": "python",
   "name": "python3"
  },
  "language_info": {
   "codemirror_mode": {
    "name": "ipython",
    "version": 3
   },
   "file_extension": ".py",
   "mimetype": "text/x-python",
   "name": "python",
   "nbconvert_exporter": "python",
   "pygments_lexer": "ipython3",
   "version": "3.9.6"
  }
 },
 "nbformat": 4,
 "nbformat_minor": 2
}
