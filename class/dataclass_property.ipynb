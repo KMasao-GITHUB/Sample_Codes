{
 "cells": [
  {
   "cell_type": "code",
   "execution_count": 1,
   "metadata": {},
   "outputs": [],
   "source": [
    "from datetime import date\n",
    "from dataclasses import dataclass\n",
    "\n",
    "@dataclass\n",
    "class User:\n",
    "    # コンストラクタ\n",
    "    id: int = 0\n",
    "    email: str = ''\n",
    "    first_name: str = ''\n",
    "    last_name: str = ''\n",
    "    _birthday: date = date.today()\n",
    "\n",
    "\n",
    "    @property\n",
    "    def name(self):\n",
    "        return f'{self.first_name, self.last_name}'\n",
    "    \n",
    "    @name.setter\n",
    "    def name(self, _name: str):\n",
    "        if ' ' not in _name:\n",
    "            raise Exception(('invalid fullname erorr'))\n",
    "        self.first_name, self.last_name = _name.split(' ')\n",
    "\n",
    "    def __repr__(self):\n",
    "        return f'{self.id}'"
   ]
  },
  {
   "cell_type": "code",
   "execution_count": 2,
   "metadata": {},
   "outputs": [
    {
     "name": "stdout",
     "output_type": "stream",
     "text": [
      "4\n"
     ]
    }
   ],
   "source": [
    "user = User(id=4)\n",
    "print(user)"
   ]
  },
  {
   "cell_type": "code",
   "execution_count": 3,
   "metadata": {},
   "outputs": [
    {
     "name": "stdout",
     "output_type": "stream",
     "text": [
      "('', '')\n"
     ]
    }
   ],
   "source": [
    "print(user.name)"
   ]
  },
  {
   "cell_type": "code",
   "execution_count": 4,
   "metadata": {},
   "outputs": [
    {
     "name": "stdout",
     "output_type": "stream",
     "text": [
      "('hosake', 'hahge')\n"
     ]
    }
   ],
   "source": [
    "user.name = 'hosake hahge'\n",
    "print(user.name)"
   ]
  },
  {
   "cell_type": "code",
   "execution_count": null,
   "metadata": {},
   "outputs": [],
   "source": []
  }
 ],
 "metadata": {
  "kernelspec": {
   "display_name": ".venv",
   "language": "python",
   "name": "python3"
  },
  "language_info": {
   "codemirror_mode": {
    "name": "ipython",
    "version": 3
   },
   "file_extension": ".py",
   "mimetype": "text/x-python",
   "name": "python",
   "nbconvert_exporter": "python",
   "pygments_lexer": "ipython3",
   "version": "3.9.6"
  }
 },
 "nbformat": 4,
 "nbformat_minor": 2
}
